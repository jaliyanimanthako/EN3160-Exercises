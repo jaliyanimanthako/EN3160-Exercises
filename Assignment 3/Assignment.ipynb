{
 "cells": [
  {
   "cell_type": "markdown",
   "metadata": {},
   "source": [
    "# Question 1\n",
    "## Part (a)"
   ]
  },
  {
   "cell_type": "code",
   "execution_count": 26,
   "metadata": {},
   "outputs": [
    {
     "name": "stderr",
     "output_type": "stream",
     "text": [
      "Epoch 1/20: 100%|██████████| 1000/1000 [00:10<00:00, 94.39it/s, loss=0.977]\n"
     ]
    },
    {
     "name": "stdout",
     "output_type": "stream",
     "text": [
      "Iteration 0, average loss = 0.9769071969985962\n"
     ]
    },
    {
     "name": "stderr",
     "output_type": "stream",
     "text": [
      "Epoch 2/20: 100%|██████████| 1000/1000 [00:11<00:00, 88.12it/s, loss=0.95] \n"
     ]
    },
    {
     "name": "stdout",
     "output_type": "stream",
     "text": [
      "Iteration 1, average loss = 0.9498422320485115\n"
     ]
    },
    {
     "name": "stderr",
     "output_type": "stream",
     "text": [
      "Epoch 3/20: 100%|██████████| 1000/1000 [00:11<00:00, 86.42it/s, loss=0.936]\n"
     ]
    },
    {
     "name": "stdout",
     "output_type": "stream",
     "text": [
      "Iteration 2, average loss = 0.9361025959849357\n"
     ]
    },
    {
     "name": "stderr",
     "output_type": "stream",
     "text": [
      "Epoch 4/20: 100%|██████████| 1000/1000 [00:11<00:00, 88.83it/s, loss=0.928]\n"
     ]
    },
    {
     "name": "stdout",
     "output_type": "stream",
     "text": [
      "Iteration 3, average loss = 0.9275525305867195\n"
     ]
    },
    {
     "name": "stderr",
     "output_type": "stream",
     "text": [
      "Epoch 5/20: 100%|██████████| 1000/1000 [00:11<00:00, 89.88it/s, loss=0.922]\n"
     ]
    },
    {
     "name": "stdout",
     "output_type": "stream",
     "text": [
      "Iteration 4, average loss = 0.9216150171160697\n"
     ]
    },
    {
     "name": "stderr",
     "output_type": "stream",
     "text": [
      "Epoch 6/20: 100%|██████████| 1000/1000 [00:11<00:00, 87.00it/s, loss=0.917]\n"
     ]
    },
    {
     "name": "stdout",
     "output_type": "stream",
     "text": [
      "Iteration 5, average loss = 0.9172104735970497\n"
     ]
    },
    {
     "name": "stderr",
     "output_type": "stream",
     "text": [
      "Epoch 7/20: 100%|██████████| 1000/1000 [00:11<00:00, 87.34it/s, loss=0.914]\n"
     ]
    },
    {
     "name": "stdout",
     "output_type": "stream",
     "text": [
      "Iteration 6, average loss = 0.9137977880835533\n"
     ]
    },
    {
     "name": "stderr",
     "output_type": "stream",
     "text": [
      "Epoch 8/20: 100%|██████████| 1000/1000 [00:11<00:00, 87.12it/s, loss=0.911]\n"
     ]
    },
    {
     "name": "stdout",
     "output_type": "stream",
     "text": [
      "Iteration 7, average loss = 0.9110700042247772\n"
     ]
    },
    {
     "name": "stderr",
     "output_type": "stream",
     "text": [
      "Epoch 9/20: 100%|██████████| 1000/1000 [00:11<00:00, 88.07it/s, loss=0.909]\n"
     ]
    },
    {
     "name": "stdout",
     "output_type": "stream",
     "text": [
      "Iteration 8, average loss = 0.9088417227864265\n"
     ]
    },
    {
     "name": "stderr",
     "output_type": "stream",
     "text": [
      "Epoch 10/20: 100%|██████████| 1000/1000 [00:11<00:00, 88.70it/s, loss=0.907]\n"
     ]
    },
    {
     "name": "stdout",
     "output_type": "stream",
     "text": [
      "Iteration 9, average loss = 0.9069891161918641\n"
     ]
    },
    {
     "name": "stderr",
     "output_type": "stream",
     "text": [
      "Epoch 11/20: 100%|██████████| 1000/1000 [00:11<00:00, 87.45it/s, loss=0.905]\n"
     ]
    },
    {
     "name": "stdout",
     "output_type": "stream",
     "text": [
      "Iteration 10, average loss = 0.9054287513494491\n"
     ]
    },
    {
     "name": "stderr",
     "output_type": "stream",
     "text": [
      "Epoch 12/20: 100%|██████████| 1000/1000 [00:11<00:00, 87.40it/s, loss=0.904]\n"
     ]
    },
    {
     "name": "stdout",
     "output_type": "stream",
     "text": [
      "Iteration 11, average loss = 0.9041010414361954\n"
     ]
    },
    {
     "name": "stderr",
     "output_type": "stream",
     "text": [
      "Epoch 13/20: 100%|██████████| 1000/1000 [00:11<00:00, 88.43it/s, loss=0.903] \n"
     ]
    },
    {
     "name": "stdout",
     "output_type": "stream",
     "text": [
      "Iteration 12, average loss = 0.9029623381495476\n"
     ]
    },
    {
     "name": "stderr",
     "output_type": "stream",
     "text": [
      "Epoch 14/20: 100%|██████████| 1000/1000 [00:11<00:00, 87.82it/s, loss=0.902]\n"
     ]
    },
    {
     "name": "stdout",
     "output_type": "stream",
     "text": [
      "Iteration 13, average loss = 0.9019788796901703\n"
     ]
    },
    {
     "name": "stderr",
     "output_type": "stream",
     "text": [
      "Epoch 15/20: 100%|██████████| 1000/1000 [00:11<00:00, 89.49it/s, loss=0.901]\n"
     ]
    },
    {
     "name": "stdout",
     "output_type": "stream",
     "text": [
      "Iteration 14, average loss = 0.9011247086524964\n"
     ]
    },
    {
     "name": "stderr",
     "output_type": "stream",
     "text": [
      "Epoch 16/20: 100%|██████████| 1000/1000 [00:11<00:00, 88.63it/s, loss=0.9]  \n"
     ]
    },
    {
     "name": "stdout",
     "output_type": "stream",
     "text": [
      "Iteration 15, average loss = 0.9003795914053917\n"
     ]
    },
    {
     "name": "stderr",
     "output_type": "stream",
     "text": [
      "Epoch 17/20: 100%|██████████| 1000/1000 [00:11<00:00, 85.03it/s, loss=0.9]  \n"
     ]
    },
    {
     "name": "stdout",
     "output_type": "stream",
     "text": [
      "Iteration 16, average loss = 0.8997267247438431\n"
     ]
    },
    {
     "name": "stderr",
     "output_type": "stream",
     "text": [
      "Epoch 18/20: 100%|██████████| 1000/1000 [00:11<00:00, 88.52it/s, loss=0.899]\n"
     ]
    },
    {
     "name": "stdout",
     "output_type": "stream",
     "text": [
      "Iteration 17, average loss = 0.8991532143354416\n"
     ]
    },
    {
     "name": "stderr",
     "output_type": "stream",
     "text": [
      "Epoch 19/20: 100%|██████████| 1000/1000 [00:11<00:00, 88.78it/s, loss=0.899]\n"
     ]
    },
    {
     "name": "stdout",
     "output_type": "stream",
     "text": [
      "Iteration 18, average loss = 0.8986476767063141\n"
     ]
    },
    {
     "name": "stderr",
     "output_type": "stream",
     "text": [
      "Epoch 20/20: 100%|██████████| 1000/1000 [00:11<00:00, 90.16it/s, loss=0.898]\n"
     ]
    },
    {
     "name": "stdout",
     "output_type": "stream",
     "text": [
      "Iteration 19, average loss = 0.8982009989619255\n"
     ]
    },
    {
     "data": {
      "image/png": "[encoded data removed]",
      "text/plain": [
       "<Figure size 640x480 with 1 Axes>"
      ]
     },
     "metadata": {},
     "output_type": "display_data"
    },
    {
     "name": "stdout",
     "output_type": "stream",
     "text": [
      "Training accuracy = 32.242\n",
      "Test accuracy = 32.42\n"
     ]
    }
   ],
   "source": [
    "import torch \n",
    "import torch.nn as nn\n",
    "import torch.optim as optim\n",
    "import torchvision\n",
    "import torchvision.transforms as transforms\n",
    "import matplotlib.pyplot as plt\n",
    "\n",
    "# 1. Dataloading\n",
    "transform = transforms.Compose(\n",
    "    [transforms.ToTensor(),\n",
    "     transforms.Normalize((0.5, 0.5, 0.5), (0.5, 0.5, 0.5))])\n",
    "\n",
    "batch_size = 50\n",
    "\n",
    "trainset = torchvision.datasets.CIFAR10(root='./data', train=True, download=False, transform=transform)\n",
    "trainloader = torch.utils.data.DataLoader(trainset, batch_size=batch_size, shuffle=True, num_workers=2)\n",
    "\n",
    "testset = torchvision.datasets.CIFAR10(root='./data', train=False, download=False, transform=transform)\n",
    "testloader = torch.utils.data.DataLoader(testset, batch_size=batch_size, shuffle=False, num_workers=2)\n",
    "\n",
    "classes = ('plane', 'car', 'bird', 'cat', 'deer', 'dog', 'frog', 'horse', 'ship', 'truck')\n",
    "\n",
    "# 2. Define network parameters\n",
    "\n",
    "Din = 3*32*32 #Input size (flattened image)\n",
    "K = 10\n",
    "std = 1e-5\n",
    "\n",
    "#Initialize weights and biases\n",
    "\n",
    "w = torch.randn(Din, K, dtype=torch.float32)*std\n",
    "b = torch.zeros(K)\n",
    "\n",
    "#Hyperparameters\n",
    "iterations = 20\n",
    "learning_rate = 2e-6\n",
    "learning_rate_decay = 0.9\n",
    "reg = 0\n",
    "loss_history = []\n",
    "\n",
    "# 3. Training\n",
    "for t in range(iterations):\n",
    "    running_loss = 0.0\n",
    "    # Add tqdm progress bar\n",
    "    with tqdm(enumerate(trainloader, 0), total=len(trainloader), desc=f\"Epoch {t+1}/{iterations}\") as pbar:\n",
    "        for i, data in pbar:\n",
    "            inputs, labels = data\n",
    "            Ntr = inputs.shape[0]\n",
    "            x_train = inputs.view(Ntr, -1)\n",
    "            y_train_onehot = nn.functional.one_hot(labels, K).float()\n",
    "\n",
    "            # Forward pass\n",
    "            y_pred = x_train.mm(w) + b\n",
    "\n",
    "            # Compute loss\n",
    "            loss = (1/Ntr)*torch.sum((y_pred - y_train_onehot)**2) + reg*(torch.sum(w**2) + torch.sum(b**2))\n",
    "            loss_history.append(loss.item())\n",
    "            running_loss += loss.item()\n",
    "\n",
    "            # Backpropagation\n",
    "            dy_pred = 2.0/Ntr * (y_pred - y_train_onehot)\n",
    "            dw = x_train.t().mm(dy_pred) + reg * w\n",
    "            db = dy_pred.sum(dim=0) + reg * b\n",
    "\n",
    "            # Update weights\n",
    "            w -= learning_rate * dw\n",
    "            b -= learning_rate * db\n",
    "\n",
    "            # Update the progress bar description with the current loss\n",
    "            pbar.set_postfix(loss=running_loss/(i+1))\n",
    "\n",
    "    # Decay learning rate\n",
    "    learning_rate *= learning_rate_decay\n",
    "\n",
    "    # Print loss for every epoch\n",
    "    print(f\"Iteration {t}, average loss = {running_loss/len(trainloader)}\")\n",
    "# 4. Plot loss\n",
    "plt.plot(loss_history)\n",
    "plt.xlabel('Iteration')\n",
    "plt.ylabel('Loss')\n",
    "plt.title('Training Loss history')\n",
    "plt.show()\n",
    "\n",
    "# 5. Calculate Accuracy on training set\n",
    "correct_train = 0\n",
    "total_train = 0\n",
    "\n",
    "with torch.no_grad():\n",
    "    for data in trainloader:\n",
    "        inputs, labels = data\n",
    "        Ntr = inputs.shape[0]\n",
    "        x_train = inputs.view(Ntr, -1)\n",
    "        y_train_onehot = nn.functional.one_hot(labels, K).float()\n",
    "\n",
    "        y_pred = x_train.mm(w) + b\n",
    "        _, predicted = torch.max(y_pred, 1)\n",
    "        _, actual = torch.max(y_train_onehot, 1)\n",
    "        total_train += labels.size(0)\n",
    "        correct_train += (predicted == actual).sum().item()\n",
    "\n",
    "train_accuracy = 100 * correct_train / total_train\n",
    "print(f\"Training accuracy = {train_accuracy}\")\n",
    "\n",
    "# 6. Calculate Accuracy on test set\n",
    "correct_test = 0\n",
    "total_test = 0\n",
    "with torch.no_grad():\n",
    "    for data in testloader:\n",
    "        inputs, labels = data\n",
    "        Nte = inputs.shape[0]\n",
    "        x_test = inputs.view(Nte, -1)\n",
    "        y_test_onehot = nn.functional.one_hot(labels, K).float()\n",
    "\n",
    "        y_pred = x_test.mm(w) + b\n",
    "        _, predicted = torch.max(y_pred, 1)\n",
    "        _, actual = torch.max(y_test_onehot, 1)\n",
    "        total_test += labels.size(0)\n",
    "        correct_test += (predicted == actual).sum().item()\n",
    "\n",
    "test_accuracy = 100 * correct_test / total_test\n",
    "print(f\"Test accuracy = {test_accuracy}\")\n",
    "    "
   ]
  },
  {
   "cell_type": "markdown",
   "metadata": {},
   "source": [
    "##### First, the given code was run, and the results above show that the accuracy was a bit low, while the loss was moderately converging. Next, a hidden layer with 100 nodes and a sigmoid activation function was added with the given learning rate. However, the loss didn’t converge to a smaller value, so a higher standard deviation for the initialized weights was used, which also caused a rise in the loss."
   ]
  },
  {
   "cell_type": "code",
   "execution_count": 6,
   "metadata": {},
   "outputs": [
    {
     "name": "stderr",
     "output_type": "stream",
     "text": [
      "Epoch 1/20: 100%|██████████| 1000/1000 [00:13<00:00, 74.83it/s, loss=0.99]\n"
     ]
    },
    {
     "name": "stdout",
     "output_type": "stream",
     "text": [
      "Iteration 0, average loss = 0.9902435464262962\n"
     ]
    },
    {
     "name": "stderr",
     "output_type": "stream",
     "text": [
      "Epoch 2/20: 100%|██████████| 1000/1000 [00:12<00:00, 79.89it/s, loss=0.974]\n"
     ]
    },
    {
     "name": "stdout",
     "output_type": "stream",
     "text": [
      "Iteration 1, average loss = 0.9740359754562378\n"
     ]
    },
    {
     "name": "stderr",
     "output_type": "stream",
     "text": [
      "Epoch 3/20: 100%|██████████| 1000/1000 [00:13<00:00, 76.77it/s, loss=0.962]\n"
     ]
    },
    {
     "name": "stdout",
     "output_type": "stream",
     "text": [
      "Iteration 2, average loss = 0.9619554969668388\n"
     ]
    },
    {
     "name": "stderr",
     "output_type": "stream",
     "text": [
      "Epoch 4/20: 100%|██████████| 1000/1000 [00:12<00:00, 81.04it/s, loss=0.953]\n"
     ]
    },
    {
     "name": "stdout",
     "output_type": "stream",
     "text": [
      "Iteration 3, average loss = 0.9527792816758156\n"
     ]
    },
    {
     "name": "stderr",
     "output_type": "stream",
     "text": [
      "Epoch 5/20: 100%|██████████| 1000/1000 [00:12<00:00, 77.15it/s, loss=0.946]\n"
     ]
    },
    {
     "name": "stdout",
     "output_type": "stream",
     "text": [
      "Iteration 4, average loss = 0.9456896049380302\n"
     ]
    },
    {
     "name": "stderr",
     "output_type": "stream",
     "text": [
      "Epoch 6/20: 100%|██████████| 1000/1000 [00:10<00:00, 98.80it/s, loss=0.94] \n"
     ]
    },
    {
     "name": "stdout",
     "output_type": "stream",
     "text": [
      "Iteration 5, average loss = 0.940127433180809\n"
     ]
    },
    {
     "name": "stderr",
     "output_type": "stream",
     "text": [
      "Epoch 7/20: 100%|██████████| 1000/1000 [00:10<00:00, 98.00it/s, loss=0.936]\n"
     ]
    },
    {
     "name": "stdout",
     "output_type": "stream",
     "text": [
      "Iteration 6, average loss = 0.9357033469676972\n"
     ]
    },
    {
     "name": "stderr",
     "output_type": "stream",
     "text": [
      "Epoch 8/20: 100%|██████████| 1000/1000 [00:10<00:00, 97.40it/s, loss=0.932]\n"
     ]
    },
    {
     "name": "stdout",
     "output_type": "stream",
     "text": [
      "Iteration 7, average loss = 0.9321405701041222\n"
     ]
    },
    {
     "name": "stderr",
     "output_type": "stream",
     "text": [
      "Epoch 9/20: 100%|██████████| 1000/1000 [00:10<00:00, 97.00it/s, loss=0.929]\n"
     ]
    },
    {
     "name": "stdout",
     "output_type": "stream",
     "text": [
      "Iteration 8, average loss = 0.9292392852306366\n"
     ]
    },
    {
     "name": "stderr",
     "output_type": "stream",
     "text": [
      "Epoch 10/20: 100%|██████████| 1000/1000 [00:15<00:00, 65.09it/s, loss=0.927]\n"
     ]
    },
    {
     "name": "stdout",
     "output_type": "stream",
     "text": [
      "Iteration 9, average loss = 0.9268529137372971\n"
     ]
    },
    {
     "name": "stderr",
     "output_type": "stream",
     "text": [
      "Epoch 11/20: 100%|██████████| 1000/1000 [00:09<00:00, 100.90it/s, loss=0.925]\n"
     ]
    },
    {
     "name": "stdout",
     "output_type": "stream",
     "text": [
      "Iteration 10, average loss = 0.9248722941875458\n"
     ]
    },
    {
     "name": "stderr",
     "output_type": "stream",
     "text": [
      "Epoch 12/20: 100%|██████████| 1000/1000 [00:09<00:00, 106.56it/s, loss=0.923]\n"
     ]
    },
    {
     "name": "stdout",
     "output_type": "stream",
     "text": [
      "Iteration 11, average loss = 0.9232150518298149\n"
     ]
    },
    {
     "name": "stderr",
     "output_type": "stream",
     "text": [
      "Epoch 13/20: 100%|██████████| 1000/1000 [00:09<00:00, 107.20it/s, loss=0.922]\n"
     ]
    },
    {
     "name": "stdout",
     "output_type": "stream",
     "text": [
      "Iteration 12, average loss = 0.9218181888461113\n"
     ]
    },
    {
     "name": "stderr",
     "output_type": "stream",
     "text": [
      "Epoch 14/20: 100%|██████████| 1000/1000 [00:09<00:00, 103.81it/s, loss=0.921]\n"
     ]
    },
    {
     "name": "stdout",
     "output_type": "stream",
     "text": [
      "Iteration 13, average loss = 0.9206330955028534\n"
     ]
    },
    {
     "name": "stderr",
     "output_type": "stream",
     "text": [
      "Epoch 15/20: 100%|██████████| 1000/1000 [00:09<00:00, 102.19it/s, loss=0.92]\n"
     ]
    },
    {
     "name": "stdout",
     "output_type": "stream",
     "text": [
      "Iteration 14, average loss = 0.9196216742992401\n"
     ]
    },
    {
     "name": "stderr",
     "output_type": "stream",
     "text": [
      "Epoch 16/20: 100%|██████████| 1000/1000 [00:14<00:00, 69.55it/s, loss=0.919]\n"
     ]
    },
    {
     "name": "stdout",
     "output_type": "stream",
     "text": [
      "Iteration 15, average loss = 0.9187538860440254\n"
     ]
    },
    {
     "name": "stderr",
     "output_type": "stream",
     "text": [
      "Epoch 17/20: 100%|██████████| 1000/1000 [00:12<00:00, 77.03it/s, loss=0.918]\n"
     ]
    },
    {
     "name": "stdout",
     "output_type": "stream",
     "text": [
      "Iteration 16, average loss = 0.9180057668089867\n"
     ]
    },
    {
     "name": "stderr",
     "output_type": "stream",
     "text": [
      "Epoch 18/20: 100%|██████████| 1000/1000 [00:12<00:00, 79.38it/s, loss=0.917]\n"
     ]
    },
    {
     "name": "stdout",
     "output_type": "stream",
     "text": [
      "Iteration 17, average loss = 0.9173580530881882\n"
     ]
    },
    {
     "name": "stderr",
     "output_type": "stream",
     "text": [
      "Epoch 19/20: 100%|██████████| 1000/1000 [00:14<00:00, 70.68it/s, loss=0.917]\n"
     ]
    },
    {
     "name": "stdout",
     "output_type": "stream",
     "text": [
      "Iteration 18, average loss = 0.9167950665950775\n"
     ]
    },
    {
     "name": "stderr",
     "output_type": "stream",
     "text": [
      "Epoch 20/20: 100%|██████████| 1000/1000 [00:14<00:00, 67.32it/s, loss=0.916]\n"
     ]
    },
    {
     "name": "stdout",
     "output_type": "stream",
     "text": [
      "Iteration 19, average loss = 0.9163040144443512\n"
     ]
    },
    {
     "data": {
      "image/png": "[encoded data removed]",
      "text/plain": [
       "<Figure size 640x480 with 1 Axes>"
      ]
     },
     "metadata": {},
     "output_type": "display_data"
    },
    {
     "name": "stdout",
     "output_type": "stream",
     "text": [
      "Training accuracy = 10.0\n",
      "Test accuracy = 10.0\n"
     ]
    }
   ],
   "source": [
    "import torch\n",
    "import torch.nn as nn\n",
    "import torch.optim as optim\n",
    "import torchvision\n",
    "import torchvision.transforms as transforms\n",
    "import matplotlib.pyplot as plt\n",
    "from tqdm import tqdm\n",
    "\n",
    "# 1. Dataloading\n",
    "transform = transforms.Compose(\n",
    "    [transforms.ToTensor(),\n",
    "     transforms.Normalize((0.5, 0.5, 0.5), (0.5, 0.5, 0.5))])\n",
    "\n",
    "batch_size = 50\n",
    "\n",
    "trainset = torchvision.datasets.CIFAR10(root='./data', train=True, download=False, transform=transform)\n",
    "trainloader = torch.utils.data.DataLoader(trainset, batch_size=batch_size, shuffle=True, num_workers=2)\n",
    "\n",
    "testset = torchvision.datasets.CIFAR10(root='./data', train=False, download=False, transform=transform)\n",
    "testloader = torch.utils.data.DataLoader(testset, batch_size=batch_size, shuffle=False, num_workers=2)\n",
    "\n",
    "classes = ('plane', 'car', 'bird', 'cat', 'deer', 'dog', 'frog', 'horse', 'ship', 'truck')\n",
    "\n",
    "# 2. Define network parameters\n",
    "\n",
    "Din = 3*32*32 #Input size (flattened image)\n",
    "hidden_size = 100\n",
    "K = 10\n",
    "std = 1e-5\n",
    "\n",
    "#Initialize weights and biases\n",
    "\n",
    "w1 = torch.randn(Din, hidden_size, dtype=torch.float32)*std\n",
    "b1 = torch.zeros(hidden_size)\n",
    "w2 = torch.randn(hidden_size, K, dtype=torch.float32)*std\n",
    "b2 = torch.zeros(K)\n",
    "\n",
    "#Hyperparameters\n",
    "iterations = 20\n",
    "learning_rate = 2e-6\n",
    "learning_rate_decay = 0.9\n",
    "reg = 0\n",
    "loss_history = []\n",
    "\n",
    "# 3. Training\n",
    "for t in range(iterations):\n",
    "    running_loss = 0.0\n",
    "    # Add tqdm progress bar\n",
    "    with tqdm(enumerate(trainloader, 0), total=len(trainloader), desc=f\"Epoch {t+1}/{iterations}\") as pbar:\n",
    "        for i, data in pbar:\n",
    "            inputs, labels = data\n",
    "            Ntr = inputs.shape[0]\n",
    "            x_train = inputs.view(Ntr, -1)\n",
    "            y_train_onehot = nn.functional.one_hot(labels, K).float()\n",
    "\n",
    "            # Forward pass\n",
    "            hidden = torch.sigmoid(x_train.mm(w1) + b1)\n",
    "            y_pred = hidden.mm(w2)+ b2\n",
    "            \n",
    "\n",
    "            # Compute loss\n",
    "            loss = (1 / Ntr) * torch.sum((y_pred - y_train_onehot) ** 2) + reg * (torch.sum(w1 ** 2) + torch.sum(w2 ** 2))\n",
    "\n",
    "            loss_history.append(loss.item())\n",
    "            running_loss += loss.item()\n",
    "\n",
    "            # Backpropagation\n",
    "            dy_pred = 2 / Ntr * (y_pred - y_train_onehot)\n",
    "            dhidden = dy_pred.mm(w2.t()) * hidden * (1 - hidden)\n",
    "            dw2 = hidden.t().mm(dy_pred) + reg * w2\n",
    "            db2 = dy_pred.sum(dim=0)\n",
    "            dw1 = x_train.t().mm(dhidden) + reg * w1\n",
    "            db1 = dhidden.sum(dim=0)\n",
    "\n",
    "            # Update weights\n",
    "\n",
    "            w1 -= learning_rate * dw1\n",
    "            b1 -= learning_rate * db1\n",
    "            w2 -= learning_rate * dw2\n",
    "            b2 -= learning_rate * db2\n",
    "\n",
    "            # Update the progress bar description with the current loss\n",
    "            pbar.set_postfix(loss=running_loss/(i+1))\n",
    "    \n",
    "    learning_rate *= learning_rate_decay\n",
    "    # Print loss for every epoch\n",
    "    print(f\"Iteration {t}, average loss = {running_loss/len(trainloader)}\")\n",
    "# 4.Plot loss\n",
    "plt.plot(loss_history)\n",
    "plt.xlabel('Iteration')\n",
    "plt.ylabel('Loss')\n",
    "plt.title('Training Loss history')\n",
    "plt.show()\n",
    "\n",
    "# 5. Calculate Accuracy on training set\n",
    "correct_train = 0\n",
    "total_train = 0\n",
    "\n",
    "with torch.no_grad():\n",
    "    for data in trainloader:\n",
    "        inputs, labels = data\n",
    "        Ntr = inputs.shape[0]\n",
    "        x_train = inputs.view(Ntr, -1)\n",
    "        y_train_onehot = nn.functional.one_hot(labels, K).float()\n",
    "\n",
    "        hidden_train = torch.sigmoid(x_train.mm(w1) + b1)\n",
    "        y_pred = hidden_train.mm(w2) + b2\n",
    "        _, predicted = torch.max(y_pred, 1)\n",
    "        _, actual = torch.max(y_train_onehot, 1)\n",
    "        total_train += labels.size(0)\n",
    "        correct_train += (predicted == actual).sum().item()\n",
    "\n",
    "train_accuracy = 100 * correct_train / total_train\n",
    "print(f\"Training accuracy = {train_accuracy}\")\n",
    "\n",
    "# 6. Calculate Accuracy on test set\n",
    "correct_test = 0\n",
    "total_test = 0\n",
    "with torch.no_grad():\n",
    "    for data in testloader:\n",
    "        inputs, labels = data\n",
    "        Nte = inputs.shape[0]\n",
    "        x_test = inputs.view(Nte, -1)\n",
    "        y_test_onehot = nn.functional.one_hot(labels, K).float()\n",
    "\n",
    "        hidden_test = torch.sigmoid(x_test.mm(w1) + b1)\n",
    "        y_pred = hidden_test.mm(w2) + b2\n",
    "        _, predicted = torch.max(y_pred, 1)\n",
    "        _, actual = torch.max(y_test_onehot, 1)\n",
    "        total_test += labels.size(0)\n",
    "        correct_test += (predicted == actual).sum().item()\n",
    "\n",
    "test_accuracy = 100 * correct_test / total_test\n",
    "print(f\"Test accuracy = {test_accuracy}\")"
   ]
  },
  {
   "cell_type": "code",
   "execution_count": 5,
   "metadata": {},
   "outputs": [
    {
     "name": "stderr",
     "output_type": "stream",
     "text": [
      "Epoch 1/20: 100%|██████████| 1000/1000 [00:11<00:00, 90.18it/s, loss=0.878]\n"
     ]
    },
    {
     "name": "stdout",
     "output_type": "stream",
     "text": [
      "Iteration 0, average loss = 0.8782415391802788\n"
     ]
    },
    {
     "name": "stderr",
     "output_type": "stream",
     "text": [
      "Epoch 2/20: 100%|██████████| 1000/1000 [00:12<00:00, 77.75it/s, loss=0.841]\n"
     ]
    },
    {
     "name": "stdout",
     "output_type": "stream",
     "text": [
      "Iteration 1, average loss = 0.8406089187860489\n"
     ]
    },
    {
     "name": "stderr",
     "output_type": "stream",
     "text": [
      "Epoch 3/20: 100%|██████████| 1000/1000 [00:14<00:00, 66.76it/s, loss=0.827]\n"
     ]
    },
    {
     "name": "stdout",
     "output_type": "stream",
     "text": [
      "Iteration 2, average loss = 0.827060419678688\n"
     ]
    },
    {
     "name": "stderr",
     "output_type": "stream",
     "text": [
      "Epoch 4/20: 100%|██████████| 1000/1000 [00:12<00:00, 77.31it/s, loss=0.817]\n"
     ]
    },
    {
     "name": "stdout",
     "output_type": "stream",
     "text": [
      "Iteration 3, average loss = 0.8167552015781403\n"
     ]
    },
    {
     "name": "stderr",
     "output_type": "stream",
     "text": [
      "Epoch 5/20: 100%|██████████| 1000/1000 [00:13<00:00, 73.56it/s, loss=0.81]\n"
     ]
    },
    {
     "name": "stdout",
     "output_type": "stream",
     "text": [
      "Iteration 4, average loss = 0.8099474446773529\n"
     ]
    },
    {
     "name": "stderr",
     "output_type": "stream",
     "text": [
      "Epoch 6/20: 100%|██████████| 1000/1000 [00:12<00:00, 79.08it/s, loss=0.805]\n"
     ]
    },
    {
     "name": "stdout",
     "output_type": "stream",
     "text": [
      "Iteration 5, average loss = 0.8046502639651298\n"
     ]
    },
    {
     "name": "stderr",
     "output_type": "stream",
     "text": [
      "Epoch 7/20: 100%|██████████| 1000/1000 [00:12<00:00, 81.68it/s, loss=0.8] \n"
     ]
    },
    {
     "name": "stdout",
     "output_type": "stream",
     "text": [
      "Iteration 6, average loss = 0.7999862617850304\n"
     ]
    },
    {
     "name": "stderr",
     "output_type": "stream",
     "text": [
      "Epoch 8/20: 100%|██████████| 1000/1000 [00:18<00:00, 55.01it/s, loss=0.796]\n"
     ]
    },
    {
     "name": "stdout",
     "output_type": "stream",
     "text": [
      "Iteration 7, average loss = 0.7963541358113289\n"
     ]
    },
    {
     "name": "stderr",
     "output_type": "stream",
     "text": [
      "Epoch 9/20: 100%|██████████| 1000/1000 [00:12<00:00, 79.97it/s, loss=0.793]\n"
     ]
    },
    {
     "name": "stdout",
     "output_type": "stream",
     "text": [
      "Iteration 8, average loss = 0.7934528771042824\n"
     ]
    },
    {
     "name": "stderr",
     "output_type": "stream",
     "text": [
      "Epoch 10/20: 100%|██████████| 1000/1000 [00:12<00:00, 82.97it/s, loss=0.791]\n"
     ]
    },
    {
     "name": "stdout",
     "output_type": "stream",
     "text": [
      "Iteration 9, average loss = 0.7911022289395332\n"
     ]
    },
    {
     "name": "stderr",
     "output_type": "stream",
     "text": [
      "Epoch 11/20: 100%|██████████| 1000/1000 [00:13<00:00, 74.31it/s, loss=0.789]\n"
     ]
    },
    {
     "name": "stdout",
     "output_type": "stream",
     "text": [
      "Iteration 10, average loss = 0.7890921426415444\n"
     ]
    },
    {
     "name": "stderr",
     "output_type": "stream",
     "text": [
      "Epoch 12/20: 100%|██████████| 1000/1000 [00:11<00:00, 83.51it/s, loss=0.787]\n"
     ]
    },
    {
     "name": "stdout",
     "output_type": "stream",
     "text": [
      "Iteration 11, average loss = 0.7873369652032852\n"
     ]
    },
    {
     "name": "stderr",
     "output_type": "stream",
     "text": [
      "Epoch 13/20: 100%|██████████| 1000/1000 [00:12<00:00, 79.30it/s, loss=0.786]\n"
     ]
    },
    {
     "name": "stdout",
     "output_type": "stream",
     "text": [
      "Iteration 12, average loss = 0.785865268588066\n"
     ]
    },
    {
     "name": "stderr",
     "output_type": "stream",
     "text": [
      "Epoch 14/20: 100%|██████████| 1000/1000 [00:14<00:00, 68.72it/s, loss=0.785]\n"
     ]
    },
    {
     "name": "stdout",
     "output_type": "stream",
     "text": [
      "Iteration 13, average loss = 0.7845503951907158\n"
     ]
    },
    {
     "name": "stderr",
     "output_type": "stream",
     "text": [
      "Epoch 15/20: 100%|██████████| 1000/1000 [00:14<00:00, 69.75it/s, loss=0.783]\n"
     ]
    },
    {
     "name": "stdout",
     "output_type": "stream",
     "text": [
      "Iteration 14, average loss = 0.7834393994212151\n"
     ]
    },
    {
     "name": "stderr",
     "output_type": "stream",
     "text": [
      "Epoch 16/20: 100%|██████████| 1000/1000 [00:13<00:00, 73.35it/s, loss=0.782]\n"
     ]
    },
    {
     "name": "stdout",
     "output_type": "stream",
     "text": [
      "Iteration 15, average loss = 0.7824032400846481\n"
     ]
    },
    {
     "name": "stderr",
     "output_type": "stream",
     "text": [
      "Epoch 17/20: 100%|██████████| 1000/1000 [00:12<00:00, 82.39it/s, loss=0.782]\n"
     ]
    },
    {
     "name": "stdout",
     "output_type": "stream",
     "text": [
      "Iteration 16, average loss = 0.7815149062275887\n"
     ]
    },
    {
     "name": "stderr",
     "output_type": "stream",
     "text": [
      "Epoch 18/20: 100%|██████████| 1000/1000 [00:14<00:00, 67.52it/s, loss=0.781]\n"
     ]
    },
    {
     "name": "stdout",
     "output_type": "stream",
     "text": [
      "Iteration 17, average loss = 0.7806925722360611\n"
     ]
    },
    {
     "name": "stderr",
     "output_type": "stream",
     "text": [
      "Epoch 19/20: 100%|██████████| 1000/1000 [00:12<00:00, 76.96it/s, loss=0.78]\n"
     ]
    },
    {
     "name": "stdout",
     "output_type": "stream",
     "text": [
      "Iteration 18, average loss = 0.7800321883559227\n"
     ]
    },
    {
     "name": "stderr",
     "output_type": "stream",
     "text": [
      "Epoch 20/20: 100%|██████████| 1000/1000 [00:14<00:00, 69.09it/s, loss=0.779]\n"
     ]
    },
    {
     "name": "stdout",
     "output_type": "stream",
     "text": [
      "Iteration 19, average loss = 0.7793462055325509\n"
     ]
    },
    {
     "data": {
      "image/png": "[encoded data removed]",
      "text/plain": [
       "<Figure size 640x480 with 1 Axes>"
      ]
     },
     "metadata": {},
     "output_type": "display_data"
    },
    {
     "name": "stdout",
     "output_type": "stream",
     "text": [
      "Training accuracy = 41.14\n",
      "Test accuracy = 40.33\n"
     ]
    }
   ],
   "source": [
    "import torch\n",
    "import torch.nn as nn\n",
    "import torch.optim as optim\n",
    "import torchvision\n",
    "import torchvision.transforms as transforms\n",
    "import matplotlib.pyplot as plt\n",
    "from tqdm import tqdm\n",
    "\n",
    "# 1. Dataloading\n",
    "transform = transforms.Compose(\n",
    "    [transforms.ToTensor(),\n",
    "     transforms.Normalize((0.5, 0.5, 0.5), (0.5, 0.5, 0.5))])\n",
    "\n",
    "batch_size = 50\n",
    "\n",
    "trainset = torchvision.datasets.CIFAR10(root='./data', train=True, download=False, transform=transform)\n",
    "trainloader = torch.utils.data.DataLoader(trainset, batch_size=batch_size, shuffle=True, num_workers=2)\n",
    "\n",
    "testset = torchvision.datasets.CIFAR10(root='./data', train=False, download=False, transform=transform)\n",
    "testloader = torch.utils.data.DataLoader(testset, batch_size=batch_size, shuffle=False, num_workers=2)\n",
    "\n",
    "classes = ('plane', 'car', 'bird', 'cat', 'deer', 'dog', 'frog', 'horse', 'ship', 'truck')\n",
    "\n",
    "# 2. Define network parameters\n",
    "\n",
    "Din = 3*32*32 #Input size (flattened image)\n",
    "hidden_size = 100\n",
    "K = 10\n",
    "std = 1e-3\n",
    "\n",
    "#Initialize weights and biases\n",
    "\n",
    "w1 = torch.randn(Din, hidden_size, dtype=torch.float32)*std\n",
    "b1 = torch.zeros(hidden_size)\n",
    "w2 = torch.randn(hidden_size, K, dtype=torch.float32)*std\n",
    "b2 = torch.zeros(K)\n",
    "\n",
    "#Hyperparameters\n",
    "iterations = 20\n",
    "learning_rate = 1e-2\n",
    "learning_rate_decay = 0.9\n",
    "reg = 0\n",
    "loss_history = []\n",
    "\n",
    "# 3. Training\n",
    "for t in range(iterations):\n",
    "    running_loss = 0.0\n",
    "    # Add tqdm progress bar\n",
    "    with tqdm(enumerate(trainloader, 0), total=len(trainloader), desc=f\"Epoch {t+1}/{iterations}\") as pbar:\n",
    "        for i, data in pbar:\n",
    "            inputs, labels = data\n",
    "            Ntr = inputs.shape[0]\n",
    "            x_train = inputs.view(Ntr, -1)\n",
    "            y_train_onehot = nn.functional.one_hot(labels, K).float()\n",
    "\n",
    "            # Forward pass\n",
    "            hidden = torch.sigmoid(x_train.mm(w1) + b1)\n",
    "            y_pred = hidden.mm(w2)+ b2\n",
    "            \n",
    "\n",
    "            # Compute loss\n",
    "            loss = (1 / Ntr) * torch.sum((y_pred - y_train_onehot) ** 2) + reg * (torch.sum(w1 ** 2) + torch.sum(w2 ** 2))\n",
    "\n",
    "            loss_history.append(loss.item())\n",
    "            running_loss += loss.item()\n",
    "\n",
    "            # Backpropagation\n",
    "            dy_pred = 2 / Ntr * (y_pred - y_train_onehot)\n",
    "            dhidden = dy_pred.mm(w2.t()) * hidden * (1 - hidden)\n",
    "            dw2 = hidden.t().mm(dy_pred) + reg * w2\n",
    "            db2 = dy_pred.sum(dim=0)\n",
    "            dw1 = x_train.t().mm(dhidden) + reg * w1\n",
    "            db1 = dhidden.sum(dim=0)\n",
    "\n",
    "            # Update weights\n",
    "\n",
    "            w1 -= learning_rate * dw1\n",
    "            b1 -= learning_rate * db1\n",
    "            w2 -= learning_rate * dw2\n",
    "            b2 -= learning_rate * db2\n",
    "\n",
    "            # Update the progress bar description with the current loss\n",
    "            pbar.set_postfix(loss=running_loss/(i+1))\n",
    "    \n",
    "    learning_rate *= learning_rate_decay\n",
    "    # Print loss for every epoch\n",
    "    print(f\"Iteration {t}, average loss = {running_loss/len(trainloader)}\")\n",
    "# 4.Plot loss\n",
    "plt.plot(loss_history)\n",
    "plt.xlabel('Iteration')\n",
    "plt.ylabel('Loss')\n",
    "plt.title('Training Loss history')\n",
    "plt.show()\n",
    "\n",
    "# 5. Calculate Accuracy on training set\n",
    "correct_train = 0\n",
    "total_train = 0\n",
    "\n",
    "with torch.no_grad():\n",
    "    for data in trainloader:\n",
    "        inputs, labels = data\n",
    "        Ntr = inputs.shape[0]\n",
    "        x_train = inputs.view(Ntr, -1)\n",
    "        y_train_onehot = nn.functional.one_hot(labels, K).float()\n",
    "\n",
    "        hidden_train = torch.sigmoid(x_train.mm(w1) + b1)\n",
    "        y_pred = hidden_train.mm(w2) + b2\n",
    "        _, predicted = torch.max(y_pred, 1)\n",
    "        _, actual = torch.max(y_train_onehot, 1)\n",
    "        total_train += labels.size(0)\n",
    "        correct_train += (predicted == actual).sum().item()\n",
    "\n",
    "train_accuracy = 100 * correct_train / total_train\n",
    "print(f\"Training accuracy = {train_accuracy}\")\n",
    "\n",
    "# 6. Calculate Accuracy on test set\n",
    "correct_test = 0\n",
    "total_test = 0\n",
    "with torch.no_grad():\n",
    "    for data in testloader:\n",
    "        inputs, labels = data\n",
    "        Nte = inputs.shape[0]\n",
    "        x_test = inputs.view(Nte, -1)\n",
    "        y_test_onehot = nn.functional.one_hot(labels, K).float()\n",
    "\n",
    "        hidden_test = torch.sigmoid(x_test.mm(w1) + b1)\n",
    "        y_pred = hidden_test.mm(w2) + b2\n",
    "        _, predicted = torch.max(y_pred, 1)\n",
    "        _, actual = torch.max(y_test_onehot, 1)\n",
    "        total_test += labels.size(0)\n",
    "        correct_test += (predicted == actual).sum().item()\n",
    "\n",
    "test_accuracy = 100 * correct_test / total_test\n",
    "print(f\"Test accuracy = {test_accuracy}\")"
   ]
  },
  {
   "cell_type": "markdown",
   "metadata": {},
   "source": [
    "##### The previous parameters, like the time delay and learning rate, didn’t yield good accuracy after adding another layer to the network. So, I adjusted these parameters and retrained the model, which resulted in a slight improvement in accuracy"
   ]
  },
  {
   "cell_type": "markdown",
   "metadata": {},
   "source": [
    "# Question 2"
   ]
  },
  {
   "cell_type": "code",
   "execution_count": 20,
   "metadata": {},
   "outputs": [],
   "source": [
    "import torch\n",
    "import torch.nn as nn\n",
    "import torch.optim as optim\n",
    "from torchvision import datasets,transforms\n",
    "from torch.utils.data import DataLoader\n",
    "from tqdm import tqdm\n",
    "import matplotlib.pyplot as plt\n",
    "\n",
    "# Set device\n",
    "device = torch.device(\"cuda\" if torch.cuda.is_available() else \"cpu\")\n",
    "epochs = 10\n",
    "\n",
    "# Define LeNet-5 model\n",
    "class LeNet5(nn.Module):\n",
    "    def __init__(self):\n",
    "        super(LeNet5, self).__init__()\n",
    "        self.conv1 = nn.Conv2d(1, 6, kernel_size=5, stride=1, padding=2)\n",
    "        self.conv2 = nn.Conv2d(6, 16, kernel_size=5, stride=1)\n",
    "        self.fc1 = nn.Linear(16 * 5 * 5, 120)\n",
    "        self.fc2 = nn.Linear(120, 84)\n",
    "        self.fc3 = nn.Linear(84, 10)\n",
    "        self.relu = nn.ReLU()\n",
    "        self.tanh = nn.Tanh()\n",
    "        self.pool = nn.AvgPool2d(2, stride=2)\n",
    "\n",
    "    def forward(self, x):\n",
    "        x = self.pool(self.tanh(self.conv1(x)))\n",
    "        x = self.pool(self.tanh(self.conv2(x)))\n",
    "        x = x.view(-1, 16 * 5 * 5)\n",
    "        x = self.tanh(self.fc1(x))\n",
    "        x = self.relu(self.fc2(x))\n",
    "        x = self.fc3(x)\n",
    "        return x\n",
    "\n",
    "\n",
    "# Training and test configurations\n",
    "batch_size = 64\n",
    "learning_rate = 0.001\n",
    "epochs = 10\n",
    "\n",
    "# Data loading and transformations\n",
    "transform = transforms.Compose([transforms.Resize((28, 28)), transforms.ToTensor()])\n",
    "train_dataset = datasets.MNIST(root='./data', train=True, transform=transform, download=True)\n",
    "test_dataset = datasets.MNIST(root='./data', train=False, transform=transform, download=True)\n",
    "train_loader = DataLoader(train_dataset, batch_size=batch_size, shuffle=True)\n",
    "test_loader = DataLoader(test_dataset, batch_size=batch_size, shuffle=False)\n",
    "\n",
    "# Initialize model, loss function, and optimizer\n",
    "model = LeNet5()\n",
    "criterion = nn.CrossEntropyLoss()\n",
    "optimizer = optim.Adam(model.parameters(), lr=learning_rate)\n"
   ]
  },
  {
   "cell_type": "code",
   "execution_count": 21,
   "metadata": {},
   "outputs": [
    {
     "name": "stderr",
     "output_type": "stream",
     "text": [
      "Epoch 1/10: 100%|██████████| 938/938 [00:19<00:00, 47.18batch/s]\n"
     ]
    },
    {
     "name": "stdout",
     "output_type": "stream",
     "text": [
      "Train Loss: 0.2992, Train Accuracy: 90.99%\n",
      "Test Loss: 0.1115, Test Accuracy: 96.41%\n"
     ]
    },
    {
     "name": "stderr",
     "output_type": "stream",
     "text": [
      "Epoch 2/10: 100%|██████████| 938/938 [00:21<00:00, 42.67batch/s]\n"
     ]
    },
    {
     "name": "stdout",
     "output_type": "stream",
     "text": [
      "Train Loss: 0.0948, Train Accuracy: 97.06%\n",
      "Test Loss: 0.0801, Test Accuracy: 97.46%\n"
     ]
    },
    {
     "name": "stderr",
     "output_type": "stream",
     "text": [
      "Epoch 3/10: 100%|██████████| 938/938 [00:23<00:00, 39.71batch/s]\n"
     ]
    },
    {
     "name": "stdout",
     "output_type": "stream",
     "text": [
      "Train Loss: 0.0656, Train Accuracy: 97.94%\n",
      "Test Loss: 0.0597, Test Accuracy: 98.00%\n"
     ]
    },
    {
     "name": "stderr",
     "output_type": "stream",
     "text": [
      "Epoch 4/10: 100%|██████████| 938/938 [00:27<00:00, 33.67batch/s]\n"
     ]
    },
    {
     "name": "stdout",
     "output_type": "stream",
     "text": [
      "Train Loss: 0.0493, Train Accuracy: 98.43%\n",
      "Test Loss: 0.0558, Test Accuracy: 98.21%\n"
     ]
    },
    {
     "name": "stderr",
     "output_type": "stream",
     "text": [
      "Epoch 5/10: 100%|██████████| 938/938 [00:25<00:00, 36.90batch/s]\n"
     ]
    },
    {
     "name": "stdout",
     "output_type": "stream",
     "text": [
      "Train Loss: 0.0396, Train Accuracy: 98.78%\n",
      "Test Loss: 0.0473, Test Accuracy: 98.51%\n"
     ]
    },
    {
     "name": "stderr",
     "output_type": "stream",
     "text": [
      "Epoch 6/10: 100%|██████████| 938/938 [00:24<00:00, 39.02batch/s]\n"
     ]
    },
    {
     "name": "stdout",
     "output_type": "stream",
     "text": [
      "Train Loss: 0.0344, Train Accuracy: 98.90%\n",
      "Test Loss: 0.0536, Test Accuracy: 98.28%\n"
     ]
    },
    {
     "name": "stderr",
     "output_type": "stream",
     "text": [
      "Epoch 7/10: 100%|██████████| 938/938 [00:24<00:00, 37.61batch/s]\n"
     ]
    },
    {
     "name": "stdout",
     "output_type": "stream",
     "text": [
      "Train Loss: 0.0273, Train Accuracy: 99.12%\n",
      "Test Loss: 0.0448, Test Accuracy: 98.61%\n"
     ]
    },
    {
     "name": "stderr",
     "output_type": "stream",
     "text": [
      "Epoch 8/10: 100%|██████████| 938/938 [00:25<00:00, 37.08batch/s]\n"
     ]
    },
    {
     "name": "stdout",
     "output_type": "stream",
     "text": [
      "Train Loss: 0.0252, Train Accuracy: 99.16%\n",
      "Test Loss: 0.0560, Test Accuracy: 98.38%\n"
     ]
    },
    {
     "name": "stderr",
     "output_type": "stream",
     "text": [
      "Epoch 9/10: 100%|██████████| 938/938 [00:23<00:00, 39.28batch/s]\n"
     ]
    },
    {
     "name": "stdout",
     "output_type": "stream",
     "text": [
      "Train Loss: 0.0218, Train Accuracy: 99.30%\n",
      "Test Loss: 0.0438, Test Accuracy: 98.70%\n"
     ]
    },
    {
     "name": "stderr",
     "output_type": "stream",
     "text": [
      "Epoch 10/10: 100%|██████████| 938/938 [00:24<00:00, 37.61batch/s]\n"
     ]
    },
    {
     "name": "stdout",
     "output_type": "stream",
     "text": [
      "Train Loss: 0.0161, Train Accuracy: 99.47%\n",
      "Test Loss: 0.0547, Test Accuracy: 98.48%\n"
     ]
    }
   ],
   "source": [
    "\n",
    "# Lists to store train and test accuracies\n",
    "train_accuracies = []\n",
    "test_accuracies = []\n",
    "\n",
    "# Training the model with a progress bar\n",
    "for epoch in range(epochs):\n",
    "    model.train()\n",
    "    train_loss = 0\n",
    "    correct = 0\n",
    "    with tqdm(total=len(train_loader), desc=f\"Epoch {epoch + 1}/{epochs}\", unit=\"batch\") as pbar:\n",
    "        for images, labels in train_loader:\n",
    "            optimizer.zero_grad()\n",
    "            outputs = model(images)\n",
    "            loss = criterion(outputs, labels)\n",
    "            loss.backward()\n",
    "            optimizer.step()\n",
    "            \n",
    "            train_loss += loss.item() * images.size(0)\n",
    "            _, predicted = outputs.max(1)\n",
    "            correct += predicted.eq(labels).sum().item()\n",
    "            pbar.update(1)\n",
    "\n",
    "    train_loss /= len(train_loader.dataset)\n",
    "    train_accuracy = 100. * correct / len(train_loader.dataset)\n",
    "    train_accuracies.append(train_accuracy)\n",
    "    print(f\"Train Loss: {train_loss:.4f}, Train Accuracy: {train_accuracy:.2f}%\")\n",
    "\n",
    "    # Evaluate on the test set\n",
    "    model.eval()\n",
    "    test_loss = 0\n",
    "    correct = 0\n",
    "    with torch.no_grad():\n",
    "        for images, labels in test_loader:\n",
    "            outputs = model(images)\n",
    "            loss = criterion(outputs, labels)\n",
    "            \n",
    "            test_loss += loss.item() * images.size(0)\n",
    "            _, predicted = outputs.max(1)\n",
    "            correct += predicted.eq(labels).sum().item()\n",
    "\n",
    "    test_loss /= len(test_loader.dataset)\n",
    "    test_accuracy = 100. * correct / len(test_loader.dataset)\n",
    "    test_accuracies.append(test_accuracy)\n",
    "    print(f\"Test Loss: {test_loss:.4f}, Test Accuracy: {test_accuracy:.2f}%\")\n"
   ]
  },
  {
   "cell_type": "code",
   "execution_count": 22,
   "metadata": {},
   "outputs": [
    {
     "data": {
      "image/png": "[encoded data removed]",
      "text/plain": [
       "<Figure size 1000x500 with 1 Axes>"
      ]
     },
     "metadata": {},
     "output_type": "display_data"
    },
    {
     "data": {
      "image/png": "[encoded data removed]",
      "text/plain": [
       "<Figure size 1500x300 with 5 Axes>"
      ]
     },
     "metadata": {},
     "output_type": "display_data"
    }
   ],
   "source": [
    "# Plotting train and test accuracies\n",
    "plt.figure(figsize=(10, 5))\n",
    "plt.plot(range(1, epochs + 1), train_accuracies, label='Train Accuracy')\n",
    "plt.plot(range(1, epochs + 1), test_accuracies, label='Test Accuracy')\n",
    "plt.xlabel('Epochs')\n",
    "plt.ylabel('Accuracy (%)')\n",
    "plt.title('Training and Testing Accuracy Over Epochs')\n",
    "plt.legend()\n",
    "plt.show()\n",
    "\n",
    "# Plotting a few test results\n",
    "def plot_results(model, test_loader):\n",
    "    model.eval()\n",
    "    images, labels = next(iter(test_loader))\n",
    "    outputs = model(images)\n",
    "    _, preds = torch.max(outputs, 1)\n",
    "    \n",
    "    fig, axes = plt.subplots(1, 5, figsize=(15, 3))\n",
    "    for i, ax in enumerate(axes):\n",
    "        ax.imshow(images[i].squeeze(), cmap='gray')\n",
    "        ax.set_title(f\"Pred: {preds[i].item()}\\nTrue: {labels[i].item()}\")\n",
    "        ax.axis('off')\n",
    "    plt.show()\n",
    "\n",
    "plot_results(model, test_loader)"
   ]
  }
 ],
 "metadata": {
  "kernelspec": {
   "display_name": "Python 3",
   "language": "python",
   "name": "python3"
  },
  "language_info": {
   "codemirror_mode": {
    "name": "ipython",
    "version": 3
   },
   "file_extension": ".py",
   "mimetype": "text/x-python",
   "name": "python",
   "nbconvert_exporter": "python",
   "pygments_lexer": "ipython3",
   "version": "3.12.3"
  }
 },
 "nbformat": 4,
 "nbformat_minor": 2
}
